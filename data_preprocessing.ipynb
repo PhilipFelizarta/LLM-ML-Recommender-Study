{
 "cells": [
  {
   "cell_type": "code",
   "execution_count": 1,
   "metadata": {},
   "outputs": [],
   "source": [
    "import pandas as pd\n",
    "import csv\n",
    "import matplotlib.pyplot as plt\n",
    "from itertools import combinations"
   ]
  },
  {
   "cell_type": "code",
   "execution_count": 2,
   "id": "f831a848",
   "metadata": {},
   "outputs": [],
   "source": [
    "ratings_1 = \"combined_data_1.txt\"\n",
    "ratings_2 = \"combined_data_2.txt\"\n",
    "ratings_3 = \"combined_data_3.txt\"\n",
    "ratings_4 = \"combined_data_4.txt\"\n",
    "\n",
    "# Not loading all the data at once to reduce iteration time\n",
    "# ratings = [ratings_1, ratings_2, ratings_3, ratings_4]\n",
    "ratings = [ratings_1]\n",
    "movie_titles = \"movie_titles.csv\"\n",
    "dataset_path = \"./data\"\n"
   ]
  },
  {
   "cell_type": "markdown",
   "id": "6d26ef35",
   "metadata": {},
   "source": []
  },
  {
   "cell_type": "markdown",
   "id": "1b31601b",
   "metadata": {},
   "source": [
    "### Load and preprocess movies and ratings data\n",
    "\n",
    "\n",
    "The ratings txt file is structured as follows:\n",
    "moveid id, colon\n",
    "\n",
    "> 1:\n",
    "\n",
    "then the ratings for that movie in the format:\n",
    "customer_id rating date\n",
    "\n",
    "> 1488844 3 2005-09-06\n",
    "\n",
    "\n",
    "as such, we need to process a little more manually than pd.read_csv"
   ]
  },
  {
   "cell_type": "code",
   "execution_count": 3,
   "id": "91b3460e",
   "metadata": {},
   "outputs": [],
   "source": [
    "def load_ratings_data(filename):\n",
    "    data = []\n",
    "    with open(filename, 'r') as file:\n",
    "        current_movie_id = None\n",
    "        for line in file:\n",
    "            line = line.strip()\n",
    "            if line.endswith(':'):\n",
    "                current_movie_id = int(line.replace(':', ''))\n",
    "            else:\n",
    "                customer_id, rating, date = line.split(',')\n",
    "                data.append([current_movie_id, int(customer_id), float(rating), date])\n",
    "    return pd.DataFrame(data, columns=['Movie_Id', 'Cust_Id', 'Rating', 'Date'])\n"
   ]
  },
  {
   "cell_type": "code",
   "execution_count": 4,
   "id": "86233e09",
   "metadata": {},
   "outputs": [],
   "source": [
    "df_ratings = pd.concat([load_ratings_data(f\"{dataset_path}/{rating}\") for rating in ratings])\n"
   ]
  },
  {
   "cell_type": "code",
   "execution_count": 5,
   "id": "543817f9",
   "metadata": {},
   "outputs": [
    {
     "data": {
      "text/html": [
       "<div>\n",
       "<style scoped>\n",
       "    .dataframe tbody tr th:only-of-type {\n",
       "        vertical-align: middle;\n",
       "    }\n",
       "\n",
       "    .dataframe tbody tr th {\n",
       "        vertical-align: top;\n",
       "    }\n",
       "\n",
       "    .dataframe thead th {\n",
       "        text-align: right;\n",
       "    }\n",
       "</style>\n",
       "<table border=\"1\" class=\"dataframe\">\n",
       "  <thead>\n",
       "    <tr style=\"text-align: right;\">\n",
       "      <th></th>\n",
       "      <th>Movie_Id</th>\n",
       "      <th>Cust_Id</th>\n",
       "      <th>Rating</th>\n",
       "      <th>Date</th>\n",
       "    </tr>\n",
       "  </thead>\n",
       "  <tbody>\n",
       "    <tr>\n",
       "      <th>0</th>\n",
       "      <td>1</td>\n",
       "      <td>1488844</td>\n",
       "      <td>3.0</td>\n",
       "      <td>2005-09-06</td>\n",
       "    </tr>\n",
       "    <tr>\n",
       "      <th>1</th>\n",
       "      <td>1</td>\n",
       "      <td>822109</td>\n",
       "      <td>5.0</td>\n",
       "      <td>2005-05-13</td>\n",
       "    </tr>\n",
       "    <tr>\n",
       "      <th>2</th>\n",
       "      <td>1</td>\n",
       "      <td>885013</td>\n",
       "      <td>4.0</td>\n",
       "      <td>2005-10-19</td>\n",
       "    </tr>\n",
       "  </tbody>\n",
       "</table>\n",
       "</div>"
      ],
      "text/plain": [
       "   Movie_Id  Cust_Id  Rating        Date\n",
       "0         1  1488844     3.0  2005-09-06\n",
       "1         1   822109     5.0  2005-05-13\n",
       "2         1   885013     4.0  2005-10-19"
      ]
     },
     "execution_count": 5,
     "metadata": {},
     "output_type": "execute_result"
    }
   ],
   "source": [
    "df_ratings.head(3)"
   ]
  },
  {
   "cell_type": "code",
   "execution_count": 6,
   "id": "414bbf4f",
   "metadata": {},
   "outputs": [
    {
     "name": "stdout",
     "output_type": "stream",
     "text": [
      "(24053764, 4)\n"
     ]
    }
   ],
   "source": [
    "print(df_ratings.shape)"
   ]
  },
  {
   "cell_type": "code",
   "execution_count": 7,
   "id": "b91ce7d1",
   "metadata": {},
   "outputs": [
    {
     "data": {
      "text/html": [
       "<div>\n",
       "<style scoped>\n",
       "    .dataframe tbody tr th:only-of-type {\n",
       "        vertical-align: middle;\n",
       "    }\n",
       "\n",
       "    .dataframe tbody tr th {\n",
       "        vertical-align: top;\n",
       "    }\n",
       "\n",
       "    .dataframe thead th {\n",
       "        text-align: right;\n",
       "    }\n",
       "</style>\n",
       "<table border=\"1\" class=\"dataframe\">\n",
       "  <thead>\n",
       "    <tr style=\"text-align: right;\">\n",
       "      <th></th>\n",
       "      <th>Movie_Id</th>\n",
       "      <th>Cust_Id</th>\n",
       "      <th>Rating</th>\n",
       "    </tr>\n",
       "  </thead>\n",
       "  <tbody>\n",
       "    <tr>\n",
       "      <th>count</th>\n",
       "      <td>2.405376e+07</td>\n",
       "      <td>2.405376e+07</td>\n",
       "      <td>2.405376e+07</td>\n",
       "    </tr>\n",
       "    <tr>\n",
       "      <th>mean</th>\n",
       "      <td>2.308324e+03</td>\n",
       "      <td>1.322285e+06</td>\n",
       "      <td>3.599634e+00</td>\n",
       "    </tr>\n",
       "    <tr>\n",
       "      <th>std</th>\n",
       "      <td>1.303909e+03</td>\n",
       "      <td>7.645779e+05</td>\n",
       "      <td>1.086118e+00</td>\n",
       "    </tr>\n",
       "    <tr>\n",
       "      <th>min</th>\n",
       "      <td>1.000000e+00</td>\n",
       "      <td>6.000000e+00</td>\n",
       "      <td>1.000000e+00</td>\n",
       "    </tr>\n",
       "    <tr>\n",
       "      <th>25%</th>\n",
       "      <td>1.180000e+03</td>\n",
       "      <td>6.609270e+05</td>\n",
       "      <td>3.000000e+00</td>\n",
       "    </tr>\n",
       "    <tr>\n",
       "      <th>50%</th>\n",
       "      <td>2.342000e+03</td>\n",
       "      <td>1.318602e+06</td>\n",
       "      <td>4.000000e+00</td>\n",
       "    </tr>\n",
       "    <tr>\n",
       "      <th>75%</th>\n",
       "      <td>3.433000e+03</td>\n",
       "      <td>1.984358e+06</td>\n",
       "      <td>4.000000e+00</td>\n",
       "    </tr>\n",
       "    <tr>\n",
       "      <th>max</th>\n",
       "      <td>4.499000e+03</td>\n",
       "      <td>2.649429e+06</td>\n",
       "      <td>5.000000e+00</td>\n",
       "    </tr>\n",
       "  </tbody>\n",
       "</table>\n",
       "</div>"
      ],
      "text/plain": [
       "           Movie_Id       Cust_Id        Rating\n",
       "count  2.405376e+07  2.405376e+07  2.405376e+07\n",
       "mean   2.308324e+03  1.322285e+06  3.599634e+00\n",
       "std    1.303909e+03  7.645779e+05  1.086118e+00\n",
       "min    1.000000e+00  6.000000e+00  1.000000e+00\n",
       "25%    1.180000e+03  6.609270e+05  3.000000e+00\n",
       "50%    2.342000e+03  1.318602e+06  4.000000e+00\n",
       "75%    3.433000e+03  1.984358e+06  4.000000e+00\n",
       "max    4.499000e+03  2.649429e+06  5.000000e+00"
      ]
     },
     "execution_count": 7,
     "metadata": {},
     "output_type": "execute_result"
    }
   ],
   "source": [
    "df_ratings.describe()"
   ]
  },
  {
   "cell_type": "code",
   "execution_count": 8,
   "id": "64b6f441",
   "metadata": {},
   "outputs": [
    {
     "name": "stdout",
     "output_type": "stream",
     "text": [
      "Total number of unique customers: 470758\n"
     ]
    },
    {
     "data": {
      "image/png": "[encoded data removed]",
      "text/plain": [
       "<Figure size 1500x1000 with 1 Axes>"
      ]
     },
     "metadata": {},
     "output_type": "display_data"
    }
   ],
   "source": [
    "cust_count = df_ratings['Cust_Id'].nunique()\n",
    "movie_count = df_ratings['Movie_Id'].nunique()\n",
    "rating_count = df_ratings['Cust_Id'].count()\n",
    "\n",
    "\n",
    "print(f\"Total number of unique customers: {cust_count}\")\n",
    "\n",
    "p = df_ratings.groupby('Rating')['Rating'].agg(['count'])\n",
    "\n",
    "ax = p.plot(kind = 'barh', legend = False, figsize = (15,10))\n",
    "plt.title('Total pool: {:,} Movies, {:,} customers, {:,} ratings given'.format(movie_count, cust_count, rating_count), fontsize=20)\n",
    "plt.axis('off')\n",
    "\n",
    "for i in range(1,6):\n",
    "    ax.text(p.iloc[i-1][0]/4, i-1, 'Rating {}: {:.0f}%'.format(i, p.iloc[i-1][0]*100 / p.sum()[0]), color = 'white', weight = 'bold')"
   ]
  },
  {
   "cell_type": "code",
   "execution_count": 9,
   "id": "d3a1e23c",
   "metadata": {},
   "outputs": [],
   "source": [
    "titles = []\n",
    "\n",
    "with open(f\"{dataset_path}/{movie_titles}\", encoding=\"ISO-8859-1\") as file:\n",
    "    reader = csv.reader(file)\n",
    "    for row in reader:\n",
    "        movie_id = int(row[0])\n",
    "        # Need to handle a few cases where the year is missing. \n",
    "        if row[1] == 'NULL':\n",
    "            year = -1\n",
    "        else:\n",
    "            year = int(row[1])\n",
    "        # Need to handle the case where a movie title has a comman in the name\n",
    "        name = ','.join(row[2:]) \n",
    "        titles.append([movie_id, year, name])\n",
    "\n",
    "df_titles = pd.DataFrame(titles, columns=['Movie_Id', 'Movie_Year', 'Name'])\n",
    "df_titles.set_index('Movie_Id', inplace=True)\n"
   ]
  },
  {
   "cell_type": "code",
   "execution_count": 10,
   "id": "4ff2bb46",
   "metadata": {},
   "outputs": [
    {
     "data": {
      "text/html": [
       "<div>\n",
       "<style scoped>\n",
       "    .dataframe tbody tr th:only-of-type {\n",
       "        vertical-align: middle;\n",
       "    }\n",
       "\n",
       "    .dataframe tbody tr th {\n",
       "        vertical-align: top;\n",
       "    }\n",
       "\n",
       "    .dataframe thead th {\n",
       "        text-align: right;\n",
       "    }\n",
       "</style>\n",
       "<table border=\"1\" class=\"dataframe\">\n",
       "  <thead>\n",
       "    <tr style=\"text-align: right;\">\n",
       "      <th></th>\n",
       "      <th>Movie_Year</th>\n",
       "      <th>Name</th>\n",
       "    </tr>\n",
       "    <tr>\n",
       "      <th>Movie_Id</th>\n",
       "      <th></th>\n",
       "      <th></th>\n",
       "    </tr>\n",
       "  </thead>\n",
       "  <tbody>\n",
       "    <tr>\n",
       "      <th>1</th>\n",
       "      <td>2003</td>\n",
       "      <td>Dinosaur Planet</td>\n",
       "    </tr>\n",
       "    <tr>\n",
       "      <th>2</th>\n",
       "      <td>2004</td>\n",
       "      <td>Isle of Man TT 2004 Review</td>\n",
       "    </tr>\n",
       "    <tr>\n",
       "      <th>3</th>\n",
       "      <td>1997</td>\n",
       "      <td>Character</td>\n",
       "    </tr>\n",
       "  </tbody>\n",
       "</table>\n",
       "</div>"
      ],
      "text/plain": [
       "          Movie_Year                        Name\n",
       "Movie_Id                                        \n",
       "1               2003             Dinosaur Planet\n",
       "2               2004  Isle of Man TT 2004 Review\n",
       "3               1997                   Character"
      ]
     },
     "execution_count": 10,
     "metadata": {},
     "output_type": "execute_result"
    }
   ],
   "source": [
    "df_titles.head(3)"
   ]
  },
  {
   "cell_type": "code",
   "execution_count": 11,
   "id": "634b9e20",
   "metadata": {},
   "outputs": [],
   "source": [
    "df = df_ratings.join(df_titles, on='Movie_Id', how='inner')"
   ]
  },
  {
   "cell_type": "code",
   "execution_count": 12,
   "id": "543ee198",
   "metadata": {},
   "outputs": [
    {
     "data": {
      "text/html": [
       "<div>\n",
       "<style scoped>\n",
       "    .dataframe tbody tr th:only-of-type {\n",
       "        vertical-align: middle;\n",
       "    }\n",
       "\n",
       "    .dataframe tbody tr th {\n",
       "        vertical-align: top;\n",
       "    }\n",
       "\n",
       "    .dataframe thead th {\n",
       "        text-align: right;\n",
       "    }\n",
       "</style>\n",
       "<table border=\"1\" class=\"dataframe\">\n",
       "  <thead>\n",
       "    <tr style=\"text-align: right;\">\n",
       "      <th></th>\n",
       "      <th>Movie_Id</th>\n",
       "      <th>Cust_Id</th>\n",
       "      <th>Rating</th>\n",
       "      <th>Date</th>\n",
       "      <th>Movie_Year</th>\n",
       "      <th>Name</th>\n",
       "    </tr>\n",
       "  </thead>\n",
       "  <tbody>\n",
       "    <tr>\n",
       "      <th>0</th>\n",
       "      <td>1</td>\n",
       "      <td>1488844</td>\n",
       "      <td>3.0</td>\n",
       "      <td>2005-09-06</td>\n",
       "      <td>2003</td>\n",
       "      <td>Dinosaur Planet</td>\n",
       "    </tr>\n",
       "    <tr>\n",
       "      <th>1</th>\n",
       "      <td>1</td>\n",
       "      <td>822109</td>\n",
       "      <td>5.0</td>\n",
       "      <td>2005-05-13</td>\n",
       "      <td>2003</td>\n",
       "      <td>Dinosaur Planet</td>\n",
       "    </tr>\n",
       "    <tr>\n",
       "      <th>2</th>\n",
       "      <td>1</td>\n",
       "      <td>885013</td>\n",
       "      <td>4.0</td>\n",
       "      <td>2005-10-19</td>\n",
       "      <td>2003</td>\n",
       "      <td>Dinosaur Planet</td>\n",
       "    </tr>\n",
       "    <tr>\n",
       "      <th>3</th>\n",
       "      <td>1</td>\n",
       "      <td>30878</td>\n",
       "      <td>4.0</td>\n",
       "      <td>2005-12-26</td>\n",
       "      <td>2003</td>\n",
       "      <td>Dinosaur Planet</td>\n",
       "    </tr>\n",
       "    <tr>\n",
       "      <th>4</th>\n",
       "      <td>1</td>\n",
       "      <td>823519</td>\n",
       "      <td>3.0</td>\n",
       "      <td>2004-05-03</td>\n",
       "      <td>2003</td>\n",
       "      <td>Dinosaur Planet</td>\n",
       "    </tr>\n",
       "  </tbody>\n",
       "</table>\n",
       "</div>"
      ],
      "text/plain": [
       "   Movie_Id  Cust_Id  Rating        Date  Movie_Year             Name\n",
       "0         1  1488844     3.0  2005-09-06        2003  Dinosaur Planet\n",
       "1         1   822109     5.0  2005-05-13        2003  Dinosaur Planet\n",
       "2         1   885013     4.0  2005-10-19        2003  Dinosaur Planet\n",
       "3         1    30878     4.0  2005-12-26        2003  Dinosaur Planet\n",
       "4         1   823519     3.0  2004-05-03        2003  Dinosaur Planet"
      ]
     },
     "execution_count": 12,
     "metadata": {},
     "output_type": "execute_result"
    }
   ],
   "source": [
    "df.head()"
   ]
  },
  {
   "cell_type": "code",
   "execution_count": 13,
   "id": "929d9bc9",
   "metadata": {},
   "outputs": [],
   "source": [
    "# No missing values\n",
    "\n",
    "# na_check = df.isna().sum()\n",
    "# print(na_check)"
   ]
  },
  {
   "cell_type": "markdown",
   "id": "8cef83cf",
   "metadata": {},
   "source": [
    "### Enrich data with average rating and review count for each movie"
   ]
  },
  {
   "cell_type": "code",
   "execution_count": 14,
   "id": "51c34c07",
   "metadata": {},
   "outputs": [],
   "source": [
    "average_ratings = df.groupby('Movie_Id')['Rating'].mean().reset_index()\n",
    "average_ratings.columns = ['Movie_Id', 'Average_Rating']\n",
    "\n",
    "review_counts = df.groupby('Movie_Id')['Rating'].count().reset_index()\n",
    "review_counts.columns = ['Movie_Id', 'Review_Count']"
   ]
  },
  {
   "cell_type": "code",
   "execution_count": 15,
   "id": "b4784d29",
   "metadata": {},
   "outputs": [],
   "source": [
    "df = df.merge(average_ratings, on='Movie_Id', how='inner')\n",
    "df = df.merge(review_counts, on='Movie_Id', how='inner')"
   ]
  },
  {
   "cell_type": "markdown",
   "id": "cc817e46",
   "metadata": {},
   "source": [
    "### Find set of N movies where the customers have rate all N movies "
   ]
  },
  {
   "cell_type": "code",
   "execution_count": 16,
   "id": "bf5b3f5b",
   "metadata": {},
   "outputs": [],
   "source": [
    "KEEP_TOP_N = 20\n",
    "top_movies = review_counts.sort_values(by='Review_Count', ascending=False)['Movie_Id']\n",
    "top_n_movies = top_movies.head(KEEP_TOP_N)"
   ]
  },
  {
   "cell_type": "code",
   "execution_count": 17,
   "id": "50245cb8",
   "metadata": {},
   "outputs": [
    {
     "name": "stdout",
     "output_type": "stream",
     "text": [
      "(2899956, 8)\n"
     ]
    }
   ],
   "source": [
    "df_top_n = df[df['Movie_Id'].isin(top_n_movies)]\n",
    "print(df_top_n.shape)"
   ]
  },
  {
   "cell_type": "code",
   "execution_count": 18,
   "id": "4cf426e7",
   "metadata": {},
   "outputs": [],
   "source": [
    "pivot_table = df_top_n.pivot_table(index='Cust_Id', columns='Movie_Id', values='Rating', aggfunc='count', fill_value=0)\n"
   ]
  },
  {
   "cell_type": "code",
   "execution_count": 19,
   "id": "7ace12de",
   "metadata": {},
   "outputs": [],
   "source": [
    "customers_all_n_movies = pivot_table[pivot_table.sum(axis=1) == KEEP_TOP_N].index\n"
   ]
  },
  {
   "cell_type": "code",
   "execution_count": 20,
   "id": "f8b07235",
   "metadata": {},
   "outputs": [],
   "source": [
    "df_final = df_top_n[df_top_n['Cust_Id'].isin(customers_all_n_movies)]\n"
   ]
  },
  {
   "cell_type": "code",
   "execution_count": 21,
   "id": "c0898082",
   "metadata": {},
   "outputs": [
    {
     "data": {
      "text/html": [
       "<div>\n",
       "<style scoped>\n",
       "    .dataframe tbody tr th:only-of-type {\n",
       "        vertical-align: middle;\n",
       "    }\n",
       "\n",
       "    .dataframe tbody tr th {\n",
       "        vertical-align: top;\n",
       "    }\n",
       "\n",
       "    .dataframe thead th {\n",
       "        text-align: right;\n",
       "    }\n",
       "</style>\n",
       "<table border=\"1\" class=\"dataframe\">\n",
       "  <thead>\n",
       "    <tr style=\"text-align: right;\">\n",
       "      <th></th>\n",
       "      <th>Movie_Id</th>\n",
       "      <th>Cust_Id</th>\n",
       "      <th>Rating</th>\n",
       "      <th>Date</th>\n",
       "      <th>Movie_Year</th>\n",
       "      <th>Name</th>\n",
       "      <th>Average_Rating</th>\n",
       "      <th>Review_Count</th>\n",
       "    </tr>\n",
       "  </thead>\n",
       "  <tbody>\n",
       "    <tr>\n",
       "      <th>3013412</th>\n",
       "      <td>571</td>\n",
       "      <td>1844276</td>\n",
       "      <td>5.0</td>\n",
       "      <td>2002-03-05</td>\n",
       "      <td>1999</td>\n",
       "      <td>American Beauty</td>\n",
       "      <td>3.962585</td>\n",
       "      <td>154832</td>\n",
       "    </tr>\n",
       "    <tr>\n",
       "      <th>3013441</th>\n",
       "      <td>571</td>\n",
       "      <td>2422606</td>\n",
       "      <td>1.0</td>\n",
       "      <td>2001-11-20</td>\n",
       "      <td>1999</td>\n",
       "      <td>American Beauty</td>\n",
       "      <td>3.962585</td>\n",
       "      <td>154832</td>\n",
       "    </tr>\n",
       "    <tr>\n",
       "      <th>3013461</th>\n",
       "      <td>571</td>\n",
       "      <td>1515501</td>\n",
       "      <td>3.0</td>\n",
       "      <td>2002-11-25</td>\n",
       "      <td>1999</td>\n",
       "      <td>American Beauty</td>\n",
       "      <td>3.962585</td>\n",
       "      <td>154832</td>\n",
       "    </tr>\n",
       "    <tr>\n",
       "      <th>3013465</th>\n",
       "      <td>571</td>\n",
       "      <td>181323</td>\n",
       "      <td>4.0</td>\n",
       "      <td>2002-01-22</td>\n",
       "      <td>1999</td>\n",
       "      <td>American Beauty</td>\n",
       "      <td>3.962585</td>\n",
       "      <td>154832</td>\n",
       "    </tr>\n",
       "    <tr>\n",
       "      <th>3013495</th>\n",
       "      <td>571</td>\n",
       "      <td>243963</td>\n",
       "      <td>4.0</td>\n",
       "      <td>2002-02-26</td>\n",
       "      <td>1999</td>\n",
       "      <td>American Beauty</td>\n",
       "      <td>3.962585</td>\n",
       "      <td>154832</td>\n",
       "    </tr>\n",
       "  </tbody>\n",
       "</table>\n",
       "</div>"
      ],
      "text/plain": [
       "         Movie_Id  Cust_Id  Rating        Date  Movie_Year             Name  \\\n",
       "3013412       571  1844276     5.0  2002-03-05        1999  American Beauty   \n",
       "3013441       571  2422606     1.0  2001-11-20        1999  American Beauty   \n",
       "3013461       571  1515501     3.0  2002-11-25        1999  American Beauty   \n",
       "3013465       571   181323     4.0  2002-01-22        1999  American Beauty   \n",
       "3013495       571   243963     4.0  2002-02-26        1999  American Beauty   \n",
       "\n",
       "         Average_Rating  Review_Count  \n",
       "3013412        3.962585        154832  \n",
       "3013441        3.962585        154832  \n",
       "3013461        3.962585        154832  \n",
       "3013465        3.962585        154832  \n",
       "3013495        3.962585        154832  "
      ]
     },
     "execution_count": 21,
     "metadata": {},
     "output_type": "execute_result"
    }
   ],
   "source": [
    "df_final.head()"
   ]
  },
  {
   "cell_type": "code",
   "execution_count": 22,
   "id": "8b24f679",
   "metadata": {},
   "outputs": [
    {
     "name": "stdout",
     "output_type": "stream",
     "text": [
      "(89620, 8)\n"
     ]
    }
   ],
   "source": [
    "print(df_final.shape)"
   ]
  },
  {
   "cell_type": "code",
   "execution_count": 23,
   "id": "b3dab058",
   "metadata": {},
   "outputs": [
    {
     "name": "stdout",
     "output_type": "stream",
     "text": [
      "Number of customers who reviewed all 20 movies: 4481\n",
      "          Movie_Year                                               Name\n",
      "Movie_Id                                                               \n",
      "1905            2003  Pirates of the Caribbean: The Curse of the Bla...\n",
      "2152            2000                                    What Women Want\n",
      "3860            2003                                     Bruce Almighty\n",
      "4432            2003                                    The Italian Job\n",
      "571             1999                                    American Beauty\n",
      "3938            2004                                            Shrek 2\n",
      "4306            1999                                    The Sixth Sense\n",
      "2452            2001      Lord of the Rings: The Fellowship of the Ring\n",
      "1962            2004                                     50 First Dates\n",
      "3962            2003                          Finding Nemo (Widescreen)\n",
      "1145            2001                                The Wedding Planner\n",
      "3624            2003                                   The Last Samurai\n",
      "2372            2004                               The Bourne Supremacy\n",
      "3427            2002                                    Men in Black II\n",
      "2782            1995                                         Braveheart\n",
      "3106            1990                                              Ghost\n",
      "1220            2004                                        Man on Fire\n",
      "2862            1991                           The Silence of the Lambs\n",
      "4123            1998                                        Patch Adams\n",
      "1307            2003                                           S.W.A.T.\n"
     ]
    }
   ],
   "source": [
    "print(f\"Number of customers who reviewed all {KEEP_TOP_N} movies: {len(customers_all_n_movies)}\")\n",
    "print(df_titles.loc[top_n_movies])\n"
   ]
  },
  {
   "cell_type": "code",
   "execution_count": 26,
   "id": "ae5861f9",
   "metadata": {},
   "outputs": [
    {
     "data": {
      "text/plain": [
       "(89620, 8)"
      ]
     },
     "execution_count": 26,
     "metadata": {},
     "output_type": "execute_result"
    }
   ],
   "source": [
    "df_final.shape"
   ]
  },
  {
   "cell_type": "markdown",
   "id": "c454a03c",
   "metadata": {},
   "source": [
    "### Save Dataframes"
   ]
  },
  {
   "cell_type": "code",
   "execution_count": 24,
   "id": "0bc8b125",
   "metadata": {},
   "outputs": [],
   "source": [
    "df_final.to_csv(f\"{dataset_path}/df_top_20_movies_customers_reviewed_all.csv\", index=False)"
   ]
  },
  {
   "cell_type": "code",
   "execution_count": 80,
   "id": "977ff9f1",
   "metadata": {},
   "outputs": [],
   "source": [
    "df.to_csv(f\"{dataset_path}/df_all_enriched.csv\", index=False)"
   ]
  }
 ],
 "metadata": {
  "kernelspec": {
   "display_name": "Python 3 (ipykernel)",
   "language": "python",
   "name": "python3"
  },
  "language_info": {
   "codemirror_mode": {
    "name": "ipython",
    "version": 3
   },
   "file_extension": ".py",
   "mimetype": "text/x-python",
   "name": "python",
   "nbconvert_exporter": "python",
   "pygments_lexer": "ipython3",
   "version": "3.11.4"
  }
 },
 "nbformat": 4,
 "nbformat_minor": 5
}
