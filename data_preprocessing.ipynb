{
 "cells": [
  {
   "cell_type": "code",
   "execution_count": 1,
   "id": "8abf9ccc",
   "metadata": {},
   "outputs": [],
   "source": [
    "import pandas as pd\n",
    "import csv\n",
    "import matplotlib.pyplot as plt\n",
    "from itertools import combinations"
   ]
  },
  {
   "cell_type": "code",
   "execution_count": 2,
   "id": "f831a848",
   "metadata": {},
   "outputs": [],
   "source": [
    "ratings_1 = \"combined_data_1.txt\"\n",
    "ratings_2 = \"combined_data_2.txt\"\n",
    "ratings_3 = \"combined_data_3.txt\"\n",
    "ratings_4 = \"combined_data_4.txt\"\n",
    "\n",
    "# Not loading all the data at once to reduce iteration time\n",
    "# ratings = [ratings_1, ratings_2, ratings_3, ratings_4]\n",
    "ratings = [ratings_1]\n",
    "movie_titles = \"movie_titles.csv\"\n",
    "dataset_path = \"./data\"\n"
   ]
  },
  {
   "cell_type": "markdown",
   "id": "6d26ef35",
   "metadata": {},
   "source": []
  },
  {
   "cell_type": "markdown",
   "id": "1b31601b",
   "metadata": {},
   "source": [
    "### Load and preprocess movies and ratings data\n",
    "\n",
    "\n",
    "The ratings txt file is structured as follows:\n",
    "moveid id, colon\n",
    "\n",
    "> 1:\n",
    "\n",
    "then the ratings for that movie in the format:\n",
    "customer_id rating date\n",
    "\n",
    "> 1488844 3 2005-09-06\n",
    "\n",
    "\n",
    "as such, we need to process a little more manually than pd.read_csv"
   ]
  },
  {
   "cell_type": "code",
   "execution_count": 3,
   "id": "91b3460e",
   "metadata": {},
   "outputs": [],
   "source": [
    "def load_ratings_data(filename):\n",
    "    data = []\n",
    "    with open(filename, 'r') as file:\n",
    "        current_movie_id = None\n",
    "        for line in file:\n",
    "            line = line.strip()\n",
    "            if line.endswith(':'):\n",
    "                current_movie_id = int(line.replace(':', ''))\n",
    "            else:\n",
    "                customer_id, rating, date = line.split(',')\n",
    "                data.append([current_movie_id, int(customer_id), float(rating), date])\n",
    "    return pd.DataFrame(data, columns=['Movie_Id', 'Cust_Id', 'Rating', 'Date'])\n"
   ]
  },
  {
   "cell_type": "code",
   "execution_count": 4,
   "id": "86233e09",
   "metadata": {},
   "outputs": [
    {
     "ename": "FileNotFoundError",
     "evalue": "[Errno 2] No such file or directory: './data/combined_data_1.txt'",
     "output_type": "error",
     "traceback": [
      "\u001b[1;31m---------------------------------------------------------------------------\u001b[0m",
      "\u001b[1;31mFileNotFoundError\u001b[0m                         Traceback (most recent call last)",
      "Cell \u001b[1;32mIn[4], line 1\u001b[0m\n\u001b[1;32m----> 1\u001b[0m df_ratings \u001b[38;5;241m=\u001b[39m pd\u001b[38;5;241m.\u001b[39mconcat([load_ratings_data(\u001b[38;5;124mf\u001b[39m\u001b[38;5;124m\"\u001b[39m\u001b[38;5;132;01m{\u001b[39;00mdataset_path\u001b[38;5;132;01m}\u001b[39;00m\u001b[38;5;124m/\u001b[39m\u001b[38;5;132;01m{\u001b[39;00mrating\u001b[38;5;132;01m}\u001b[39;00m\u001b[38;5;124m\"\u001b[39m) \u001b[38;5;28;01mfor\u001b[39;00m rating \u001b[38;5;129;01min\u001b[39;00m ratings])\n",
      "Cell \u001b[1;32mIn[4], line 1\u001b[0m, in \u001b[0;36m<listcomp>\u001b[1;34m(.0)\u001b[0m\n\u001b[1;32m----> 1\u001b[0m df_ratings \u001b[38;5;241m=\u001b[39m pd\u001b[38;5;241m.\u001b[39mconcat([\u001b[43mload_ratings_data\u001b[49m\u001b[43m(\u001b[49m\u001b[38;5;124;43mf\u001b[39;49m\u001b[38;5;124;43m\"\u001b[39;49m\u001b[38;5;132;43;01m{\u001b[39;49;00m\u001b[43mdataset_path\u001b[49m\u001b[38;5;132;43;01m}\u001b[39;49;00m\u001b[38;5;124;43m/\u001b[39;49m\u001b[38;5;132;43;01m{\u001b[39;49;00m\u001b[43mrating\u001b[49m\u001b[38;5;132;43;01m}\u001b[39;49;00m\u001b[38;5;124;43m\"\u001b[39;49m\u001b[43m)\u001b[49m \u001b[38;5;28;01mfor\u001b[39;00m rating \u001b[38;5;129;01min\u001b[39;00m ratings])\n",
      "Cell \u001b[1;32mIn[3], line 3\u001b[0m, in \u001b[0;36mload_ratings_data\u001b[1;34m(filename)\u001b[0m\n\u001b[0;32m      1\u001b[0m \u001b[38;5;28;01mdef\u001b[39;00m \u001b[38;5;21mload_ratings_data\u001b[39m(filename):\n\u001b[0;32m      2\u001b[0m     data \u001b[38;5;241m=\u001b[39m []\n\u001b[1;32m----> 3\u001b[0m     \u001b[38;5;28;01mwith\u001b[39;00m \u001b[38;5;28;43mopen\u001b[39;49m\u001b[43m(\u001b[49m\u001b[43mfilename\u001b[49m\u001b[43m,\u001b[49m\u001b[43m \u001b[49m\u001b[38;5;124;43m'\u001b[39;49m\u001b[38;5;124;43mr\u001b[39;49m\u001b[38;5;124;43m'\u001b[39;49m\u001b[43m)\u001b[49m \u001b[38;5;28;01mas\u001b[39;00m file:\n\u001b[0;32m      4\u001b[0m         current_movie_id \u001b[38;5;241m=\u001b[39m \u001b[38;5;28;01mNone\u001b[39;00m\n\u001b[0;32m      5\u001b[0m         \u001b[38;5;28;01mfor\u001b[39;00m line \u001b[38;5;129;01min\u001b[39;00m file:\n",
      "File \u001b[1;32mZ:\\MiniConda\\envs\\tf\\lib\\site-packages\\IPython\\core\\interactiveshell.py:310\u001b[0m, in \u001b[0;36m_modified_open\u001b[1;34m(file, *args, **kwargs)\u001b[0m\n\u001b[0;32m    303\u001b[0m \u001b[38;5;28;01mif\u001b[39;00m file \u001b[38;5;129;01min\u001b[39;00m {\u001b[38;5;241m0\u001b[39m, \u001b[38;5;241m1\u001b[39m, \u001b[38;5;241m2\u001b[39m}:\n\u001b[0;32m    304\u001b[0m     \u001b[38;5;28;01mraise\u001b[39;00m \u001b[38;5;167;01mValueError\u001b[39;00m(\n\u001b[0;32m    305\u001b[0m         \u001b[38;5;124mf\u001b[39m\u001b[38;5;124m\"\u001b[39m\u001b[38;5;124mIPython won\u001b[39m\u001b[38;5;124m'\u001b[39m\u001b[38;5;124mt let you open fd=\u001b[39m\u001b[38;5;132;01m{\u001b[39;00mfile\u001b[38;5;132;01m}\u001b[39;00m\u001b[38;5;124m by default \u001b[39m\u001b[38;5;124m\"\u001b[39m\n\u001b[0;32m    306\u001b[0m         \u001b[38;5;124m\"\u001b[39m\u001b[38;5;124mas it is likely to crash IPython. If you know what you are doing, \u001b[39m\u001b[38;5;124m\"\u001b[39m\n\u001b[0;32m    307\u001b[0m         \u001b[38;5;124m\"\u001b[39m\u001b[38;5;124myou can use builtins\u001b[39m\u001b[38;5;124m'\u001b[39m\u001b[38;5;124m open.\u001b[39m\u001b[38;5;124m\"\u001b[39m\n\u001b[0;32m    308\u001b[0m     )\n\u001b[1;32m--> 310\u001b[0m \u001b[38;5;28;01mreturn\u001b[39;00m io_open(file, \u001b[38;5;241m*\u001b[39margs, \u001b[38;5;241m*\u001b[39m\u001b[38;5;241m*\u001b[39mkwargs)\n",
      "\u001b[1;31mFileNotFoundError\u001b[0m: [Errno 2] No such file or directory: './data/combined_data_1.txt'"
     ]
    }
   ],
   "source": [
    "df_ratings = pd.concat([load_ratings_data(f\"{dataset_path}/{rating}\") for rating in ratings])\n"
   ]
  },
  {
   "cell_type": "code",
   "execution_count": null,
   "id": "543817f9",
   "metadata": {},
   "outputs": [],
   "source": [
    "df_ratings.head(3)"
   ]
  },
  {
   "cell_type": "code",
   "execution_count": null,
   "id": "414bbf4f",
   "metadata": {},
   "outputs": [],
   "source": [
    "print(df_ratings.shape)"
   ]
  },
  {
   "cell_type": "code",
   "execution_count": null,
   "id": "b91ce7d1",
   "metadata": {},
   "outputs": [],
   "source": [
    "df_ratings.describe()"
   ]
  },
  {
   "cell_type": "code",
   "execution_count": null,
   "id": "64b6f441",
   "metadata": {},
   "outputs": [],
   "source": [
    "cust_count = df_ratings['Cust_Id'].nunique()\n",
    "movie_count = df_ratings['Movie_Id'].nunique()\n",
    "rating_count = df_ratings['Cust_Id'].count()\n",
    "\n",
    "\n",
    "print(f\"Total number of unique customers: {cust_count}\")\n",
    "\n",
    "p = df_ratings.groupby('Rating')['Rating'].agg(['count'])\n",
    "\n",
    "ax = p.plot(kind = 'barh', legend = False, figsize = (15,10))\n",
    "plt.title('Total pool: {:,} Movies, {:,} customers, {:,} ratings given'.format(movie_count, cust_count, rating_count), fontsize=20)\n",
    "plt.axis('off')\n",
    "\n",
    "for i in range(1,6):\n",
    "    ax.text(p.iloc[i-1][0]/4, i-1, 'Rating {}: {:.0f}%'.format(i, p.iloc[i-1][0]*100 / p.sum()[0]), color = 'white', weight = 'bold')"
   ]
  },
  {
   "cell_type": "code",
   "execution_count": null,
   "id": "d3a1e23c",
   "metadata": {},
   "outputs": [],
   "source": [
    "titles = []\n",
    "\n",
    "with open(f\"{dataset_path}/{movie_titles}\", encoding=\"ISO-8859-1\") as file:\n",
    "    reader = csv.reader(file)\n",
    "    for row in reader:\n",
    "        movie_id = int(row[0])\n",
    "        # Need to handle a few cases where the year is missing. \n",
    "        if row[1] == 'NULL':\n",
    "            year = -1\n",
    "        else:\n",
    "            year = int(row[1])\n",
    "        # Need to handle the case where a movie title has a comman in the name\n",
    "        name = ','.join(row[2:]) \n",
    "        titles.append([movie_id, year, name])\n",
    "\n",
    "df_titles = pd.DataFrame(titles, columns=['Movie_Id', 'Movie_Year', 'Name'])\n",
    "df_titles.set_index('Movie_Id', inplace=True)\n"
   ]
  },
  {
   "cell_type": "code",
   "execution_count": null,
   "id": "4ff2bb46",
   "metadata": {},
   "outputs": [],
   "source": [
    "df_titles.head(3)"
   ]
  },
  {
   "cell_type": "code",
   "execution_count": null,
   "id": "634b9e20",
   "metadata": {},
   "outputs": [],
   "source": [
    "df = df_ratings.join(df_titles, on='Movie_Id', how='inner')"
   ]
  },
  {
   "cell_type": "code",
   "execution_count": null,
   "id": "543ee198",
   "metadata": {},
   "outputs": [],
   "source": [
    "df.head()"
   ]
  },
  {
   "cell_type": "code",
   "execution_count": null,
   "id": "929d9bc9",
   "metadata": {},
   "outputs": [],
   "source": [
    "# No missing values\n",
    "\n",
    "# na_check = df.isna().sum()\n",
    "# print(na_check)"
   ]
  },
  {
   "cell_type": "markdown",
   "id": "8cef83cf",
   "metadata": {},
   "source": [
    "### Enrich data with average rating and review count for each movie"
   ]
  },
  {
   "cell_type": "code",
   "execution_count": null,
   "id": "51c34c07",
   "metadata": {},
   "outputs": [],
   "source": [
    "average_ratings = df.groupby('Movie_Id')['Rating'].mean().reset_index()\n",
    "average_ratings.columns = ['Movie_Id', 'Average_Rating']\n",
    "\n",
    "review_counts = df.groupby('Movie_Id')['Rating'].count().reset_index()\n",
    "review_counts.columns = ['Movie_Id', 'Review_Count']"
   ]
  },
  {
   "cell_type": "code",
   "execution_count": null,
   "id": "b4784d29",
   "metadata": {},
   "outputs": [],
   "source": [
    "df = df.merge(average_ratings, on='Movie_Id', how='inner')\n",
    "df = df.merge(review_counts, on='Movie_Id', how='inner')"
   ]
  },
  {
   "cell_type": "markdown",
   "id": "cc817e46",
   "metadata": {},
   "source": [
    "### Find set of N movies where the customers have rate all N movies "
   ]
  },
  {
   "cell_type": "code",
   "execution_count": null,
   "id": "bf5b3f5b",
   "metadata": {},
   "outputs": [],
   "source": [
    "KEEP_TOP_N = 20\n",
    "top_movies = review_counts.sort_values(by='Review_Count', ascending=False)['Movie_Id']\n",
    "top_n_movies = top_movies.head(KEEP_TOP_N)"
   ]
  },
  {
   "cell_type": "code",
   "execution_count": null,
   "id": "50245cb8",
   "metadata": {},
   "outputs": [],
   "source": [
    "df_top_n = df[df['Movie_Id'].isin(top_n_movies)]\n",
    "print(df_top_n.shape)"
   ]
  },
  {
   "cell_type": "code",
   "execution_count": null,
   "id": "4cf426e7",
   "metadata": {},
   "outputs": [],
   "source": [
    "pivot_table = df_top_n.pivot_table(index='Cust_Id', columns='Movie_Id', values='Rating', aggfunc='count', fill_value=0)\n"
   ]
  },
  {
   "cell_type": "code",
   "execution_count": null,
   "id": "7ace12de",
   "metadata": {},
   "outputs": [],
   "source": [
    "customers_all_n_movies = pivot_table[pivot_table.sum(axis=1) == KEEP_TOP_N].index\n"
   ]
  },
  {
   "cell_type": "code",
   "execution_count": null,
   "id": "f8b07235",
   "metadata": {},
   "outputs": [],
   "source": [
    "df_final = df_top_n[df_top_n['Cust_Id'].isin(customers_all_n_movies)]\n"
   ]
  },
  {
   "cell_type": "code",
   "execution_count": null,
   "id": "c0898082",
   "metadata": {},
   "outputs": [],
   "source": [
    "df_final.head()"
   ]
  },
  {
   "cell_type": "code",
   "execution_count": null,
   "id": "8b24f679",
   "metadata": {},
   "outputs": [],
   "source": [
    "print(df_final.shape)"
   ]
  },
  {
   "cell_type": "code",
   "execution_count": null,
   "id": "b3dab058",
   "metadata": {},
   "outputs": [],
   "source": [
    "print(f\"Number of customers who reviewed all {KEEP_TOP_N} movies: {len(customers_all_n_movies)}\")\n",
    "print(df_titles.loc[top_n_movies])\n"
   ]
  },
  {
   "cell_type": "code",
   "execution_count": null,
   "id": "ae5861f9",
   "metadata": {},
   "outputs": [],
   "source": [
    "df_final.shape"
   ]
  },
  {
   "cell_type": "markdown",
   "id": "c454a03c",
   "metadata": {},
   "source": [
    "### Save Dataframes"
   ]
  },
  {
   "cell_type": "code",
   "execution_count": null,
   "id": "0bc8b125",
   "metadata": {},
   "outputs": [],
   "source": [
    "df_final.to_csv(f\"{dataset_path}/df_top_20_movies_customers_reviewed_all.csv\", index=False)"
   ]
  },
  {
   "cell_type": "code",
   "execution_count": null,
   "id": "977ff9f1",
   "metadata": {
    "tags": []
   },
   "outputs": [],
   "source": [
    "df.to_csv(f\"{dataset_path}/df_all_enriched.csv\", index=False)"
   ]
  }
 ],
 "metadata": {
  "kernelspec": {
   "display_name": "Python 3 (ipykernel)",
   "language": "python",
   "name": "python3"
  },
  "language_info": {
   "codemirror_mode": {
    "name": "ipython",
    "version": 3
   },
   "file_extension": ".py",
   "mimetype": "text/x-python",
   "name": "python",
   "nbconvert_exporter": "python",
   "pygments_lexer": "ipython3",
   "version": "3.9.19"
  }
 },
 "nbformat": 4,
 "nbformat_minor": 5
}
