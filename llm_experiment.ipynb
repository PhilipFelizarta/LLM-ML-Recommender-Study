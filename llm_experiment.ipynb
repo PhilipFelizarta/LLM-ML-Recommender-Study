{
 "cells": [
  {
   "cell_type": "code",
   "execution_count": 1,
   "metadata": {},
   "outputs": [],
   "source": [
    "import openai\n",
    "import pandas as pd\n",
    "import json"
   ]
  },
  {
   "cell_type": "code",
   "execution_count": 2,
   "metadata": {},
   "outputs": [],
   "source": [
    "# Load api Key\n",
    "def get_credentials() -> dict:\n",
    "    # loads openai credentials from local config.json file\n",
    "    with open('config.json', 'r') as f:\n",
    "        config = json.load(f)\n",
    "    return config"
   ]
  },
  {
   "cell_type": "code",
   "execution_count": null,
   "metadata": {},
   "outputs": [],
   "source": [
    "config = get_credentials()\n",
    "openai.api_key = config['open_api_key']\n",
    "print(openai.api_key)"
   ]
  },
  {
   "cell_type": "code",
   "execution_count": 4,
   "metadata": {},
   "outputs": [],
   "source": [
    "# Constants\n",
    "MODEL = \"gpt-4\"  # or \"gpt-3.5-turbo\"\n",
    "MOVIE_DATA = \"df_top_20_movies_customers_reviewed_all.csv\"\n",
    "DATASET_PATH = \"./data\"\n",
    "\n",
    "TRAINING_MOVIES = ['American Beauty',\n",
    "'The Wedding Planner',\n",
    "'Man on Fire',\n",
    "'S.W.A.T.',\n",
    "'Pirates of the Caribbean: The Curse of the Black Pearl',\n",
    "'50 First Dates',\n",
    "'What Women Want',\n",
    "'The Bourne Supremacy',\n",
    "'Lord of the Rings: The Fellowship of the Ring',\n",
    "'Braveheart']\n",
    "\n",
    "TEST_MOVIES = ['The Silence of the Lambs',\n",
    "'Ghost',\n",
    "'Men in Black II',\n",
    "'The Last Samurai',\n",
    "'Bruce Almighty',\n",
    "'Shrek 2',\n",
    "'Finding Nemo (Widescreen)',\n",
    "'Patch Adams',\n",
    "'The Sixth Sense',\n",
    "'The Italian Job']\n"
   ]
  },
  {
   "cell_type": "markdown",
   "metadata": {},
   "source": [
    "## Helper Functions"
   ]
  },
  {
   "cell_type": "code",
   "execution_count": null,
   "metadata": {},
   "outputs": [],
   "source": [
    "def get_customer_movies(df, customer):\n",
    "    # Just return the 20 movies that the single customer has reviewed\n",
    "    return df[df['Cust_Id'] == customer]"
   ]
  },
  {
   "cell_type": "code",
   "execution_count": null,
   "metadata": {},
   "outputs": [],
   "source": [
    "def find_eligible_picks(customer_df):\n",
    "    \"\"\"\n",
    "    Our Movie ratings aren't very distinct. The customer is rating from 1-5. \n",
    "    Therefore, we will often have multiple \"correct\" answers in the test set of 10 movies. \n",
    "\n",
    "    Lets say the customer has rated 3 movies 5 stars.\n",
    "    If we recommend any of those 3 as our top recommendation system, we will have a correct answer.\n",
    "    \n",
    "    Parameters:\n",
    "    customer_df (pd.DataFrame): A DataFrame containing customer movie data. The DataFrame should include the following columns:\n",
    "                                - 'Name': The name of the movie.\n",
    "                                - 'Rating': The rating given by the customer.\n",
    "\n",
    "    Returns:\n",
    "    np.ndarray: An array of movie names that have the highest rating in the test set.\n",
    "    \"\"\"\n",
    "    test_movies_df = customer_df[customer_df['Name'].isin(TEST_MOVIES)]\n",
    "    test_movies_df.sort_values(by='Rating', ascending=False, inplace=True)\n",
    "\n",
    "    # First, select the highest movie rating from the test set\n",
    "    movie_to_recommend = test_movies_df.iloc[0]\n",
    "\n",
    "    # next, select other correct answers that had the same rating. as there could be multiple \"favourites\"\n",
    "    eligible_picks = test_movies_df[test_movies_df['Rating'] == movie_to_recommend['Rating']]['Name'].values\n",
    "    return eligible_picks"
   ]
  },
  {
   "cell_type": "code",
   "execution_count": null,
   "metadata": {},
   "outputs": [],
   "source": [
    "def compose_movie_prompt_jsons(customer_df: str) -> str:\n",
    "    \"\"\"\n",
    "    Processes a DataFrame containing customer movie data, categorizes the movies into training and test sets based on predefined criteria, \n",
    "    and converts these sets into JSON formatted strings.\n",
    "\n",
    "    Parameters:\n",
    "    customer_df (str): A string representing the DataFrame containing customer movie data. \n",
    "                       The DataFrame should include the following columns:\n",
    "                       - 'Name': The name of the movie.\n",
    "                       - 'Movie_Year': The release year of the movie.\n",
    "                       - 'Average_Rating': The average rating of the movie.\n",
    "                       - 'Review_Count': The total number of reviews for the movie.\n",
    "                       - 'Rating': The rating given by the customer.\n",
    "                       - 'Date': The date the rating was given.\n",
    "\n",
    "    Returns:\n",
    "    tuple: A tuple containing:\n",
    "        - training_json (str): A JSON formatted string containing the training movies data.\n",
    "        - test_json (str): A JSON formatted string containing the test movies data.\n",
    "    \"\"\"\n",
    "    json_training_list = []\n",
    "    json_test_list = []\n",
    "\n",
    "    for _, row in customer_df.iterrows():\n",
    "        movie_dict = {\n",
    "            \"Movie Name\": row['Name'],\n",
    "            \"metadata\": {\n",
    "                \"Movie Release Date\": row['Movie_Year'],\n",
    "                \"Average Moview rating\": row['Average_Rating'],\n",
    "                \"Total Movie Reviews\": row['Review_Count'],\n",
    "            }\n",
    "        }\n",
    "        if row['Name'] in TRAINING_MOVIES:\n",
    "            movie_dict['metadata']['Customer Rating'] = row['Rating']\n",
    "            movie_dict['metadata']['Date Rated'] = row['Date']\n",
    "            json_training_list.append(movie_dict)\n",
    "        else:\n",
    "            json_test_list.append(movie_dict)\n",
    "\n",
    "    # Convert the list of dictionaries to JSON format\n",
    "    training_json = json.dumps(json_training_list, indent=4)\n",
    "\n",
    "    # Convert the list of dictionaries to JSON format\n",
    "    test_json = json.dumps(json_test_list, indent=4)\n",
    "\n",
    "    return training_json, test_json"
   ]
  },
  {
   "cell_type": "code",
   "execution_count": null,
   "metadata": {},
   "outputs": [],
   "source": [
    "def create_prompt(training_json, test_json):\n",
    "    prompt = f\"\"\"Help me pick the best movie to watch. \n",
    "    Here are some movies I liked with information about them. \n",
    "    Pay attention to my rating of these movies in field, Customer Rating: \n",
    "    {training_json}\n",
    "\n",
    "    Based on my ratings, here are some movies I am considering watching next. Help me pick the best one:\n",
    "    {test_json}\n",
    "\n",
    "    I don't want any commentary. Only output the recommended movie name in json format. 'Movie Name': 'Movie Title'\n",
    "    \n",
    "    \"\"\"\n",
    "    return prompt "
   ]
  },
  {
   "cell_type": "code",
   "execution_count": null,
   "metadata": {},
   "outputs": [],
   "source": [
    "def get_chatgpt_recommendation(prompt):\n",
    "    response = openai.ChatCompletion.create(\n",
    "        model=MODEL,\n",
    "        messages=[\n",
    "            {\"role\": \"system\", \"content\": \"You are a movie recommendation assistant.\"},\n",
    "            {\"role\": \"user\", \"content\": prompt}\n",
    "        ],\n",
    "        max_tokens=150\n",
    "    )\n",
    "    return response.choices[0].message['content'].strip()"
   ]
  },
  {
   "cell_type": "markdown",
   "metadata": {},
   "source": [
    "#### Main flow"
   ]
  },
  {
   "cell_type": "code",
   "execution_count": null,
   "metadata": {},
   "outputs": [],
   "source": [
    "def evaluate_for_customers(df, customers):\n",
    "    correct, incorrect = 0\n",
    "\n",
    "    for customer in customers:\n",
    "        # Find the movies that a single customer has rated\n",
    "        single_customer_df = get_customer_movies(df, customer)\n",
    "        # Find the eligible picks for the customer. We will use these to evaluate LLM recommendations as correct\n",
    "        eligible_picks = find_eligible_picks(single_customer_df)\n",
    "        # Convert the customer data to JSON format\n",
    "        training_json, test_json = compose_movie_prompt_jsons(single_customer_df)\n",
    "        # Create the prompt\n",
    "        prompt = create_prompt(training_json, test_json)\n",
    "        print(prompt)\n",
    "\n",
    "        llm_pick = get_chatgpt_recommendation(prompt)\n",
    "\n",
    "        if llm_pick in eligible_picks:\n",
    "            print(f\"Correct recommendation: {llm_pick} for customer {customer}\")\n",
    "            correct += 1\n",
    "        else:\n",
    "            print(f\"incorrect recommendation: {llm_pick} for customer {customer}\")\n",
    "            incorrect += 1\n",
    "    return correct, incorrect\n",
    "        "
   ]
  },
  {
   "cell_type": "markdown",
   "metadata": {},
   "source": [
    "### Setup"
   ]
  },
  {
   "cell_type": "code",
   "execution_count": 5,
   "metadata": {},
   "outputs": [],
   "source": [
    "df = pd.read_csv(f\"{DATASET_PATH}/{MOVIE_DATA}\")"
   ]
  },
  {
   "cell_type": "code",
   "execution_count": 31,
   "metadata": {},
   "outputs": [
    {
     "data": {
      "text/html": [
       "<div>\n",
       "<style scoped>\n",
       "    .dataframe tbody tr th:only-of-type {\n",
       "        vertical-align: middle;\n",
       "    }\n",
       "\n",
       "    .dataframe tbody tr th {\n",
       "        vertical-align: top;\n",
       "    }\n",
       "\n",
       "    .dataframe thead th {\n",
       "        text-align: right;\n",
       "    }\n",
       "</style>\n",
       "<table border=\"1\" class=\"dataframe\">\n",
       "  <thead>\n",
       "    <tr style=\"text-align: right;\">\n",
       "      <th></th>\n",
       "      <th>Movie_Id</th>\n",
       "      <th>Cust_Id</th>\n",
       "      <th>Rating</th>\n",
       "      <th>Date</th>\n",
       "      <th>Movie_Year</th>\n",
       "      <th>Name</th>\n",
       "      <th>Average_Rating</th>\n",
       "      <th>Review_Count</th>\n",
       "    </tr>\n",
       "  </thead>\n",
       "  <tbody>\n",
       "    <tr>\n",
       "      <th>0</th>\n",
       "      <td>571</td>\n",
       "      <td>1844276</td>\n",
       "      <td>5.0</td>\n",
       "      <td>2002-03-05</td>\n",
       "      <td>1999</td>\n",
       "      <td>American Beauty</td>\n",
       "      <td>3.962585</td>\n",
       "      <td>154832</td>\n",
       "    </tr>\n",
       "    <tr>\n",
       "      <th>1</th>\n",
       "      <td>571</td>\n",
       "      <td>2422606</td>\n",
       "      <td>1.0</td>\n",
       "      <td>2001-11-20</td>\n",
       "      <td>1999</td>\n",
       "      <td>American Beauty</td>\n",
       "      <td>3.962585</td>\n",
       "      <td>154832</td>\n",
       "    </tr>\n",
       "    <tr>\n",
       "      <th>2</th>\n",
       "      <td>571</td>\n",
       "      <td>1515501</td>\n",
       "      <td>3.0</td>\n",
       "      <td>2002-11-25</td>\n",
       "      <td>1999</td>\n",
       "      <td>American Beauty</td>\n",
       "      <td>3.962585</td>\n",
       "      <td>154832</td>\n",
       "    </tr>\n",
       "  </tbody>\n",
       "</table>\n",
       "</div>"
      ],
      "text/plain": [
       "   Movie_Id  Cust_Id  Rating        Date  Movie_Year             Name  \\\n",
       "0       571  1844276     5.0  2002-03-05        1999  American Beauty   \n",
       "1       571  2422606     1.0  2001-11-20        1999  American Beauty   \n",
       "2       571  1515501     3.0  2002-11-25        1999  American Beauty   \n",
       "\n",
       "   Average_Rating  Review_Count  \n",
       "0        3.962585        154832  \n",
       "1        3.962585        154832  \n",
       "2        3.962585        154832  "
      ]
     },
     "execution_count": 31,
     "metadata": {},
     "output_type": "execute_result"
    }
   ],
   "source": [
    "df.head(3)"
   ]
  },
  {
   "cell_type": "markdown",
   "metadata": {},
   "source": [
    "## Manual Proof of Concept before we automate\n",
    "need to check API costs, and structure experiment, etc"
   ]
  },
  {
   "cell_type": "code",
   "execution_count": 57,
   "metadata": {},
   "outputs": [
    {
     "name": "stdout",
     "output_type": "stream",
     "text": [
      "1844276\n"
     ]
    }
   ],
   "source": [
    "# Find test customer\n",
    "test_customer = df['Cust_Id'].values[0]\n",
    "print(test_customer)\n",
    "customers = [test_customer]"
   ]
  },
  {
   "cell_type": "code",
   "execution_count": null,
   "metadata": {},
   "outputs": [],
   "source": [
    "correct, incorrect = evaluate_for_customers(df, customers)"
   ]
  },
  {
   "cell_type": "markdown",
   "metadata": {},
   "source": [
    "### Evaluate for all customers\n",
    "Need to fix bugs in single evaluation first"
   ]
  },
  {
   "cell_type": "code",
   "execution_count": null,
   "metadata": {},
   "outputs": [],
   "source": [
    "\n",
    "# customers = df['Cust_Id'].unique()\n",
    "# correct, incorrect = evaluate_for_customers(df, customers)"
   ]
  }
 ],
 "metadata": {
  "kernelspec": {
   "display_name": "Python 3 (ipykernel)",
   "language": "python",
   "name": "python3"
  },
  "language_info": {
   "codemirror_mode": {
    "name": "ipython",
    "version": 3
   },
   "file_extension": ".py",
   "mimetype": "text/x-python",
   "name": "python",
   "nbconvert_exporter": "python",
   "pygments_lexer": "ipython3",
   "version": "3.11.4"
  }
 },
 "nbformat": 4,
 "nbformat_minor": 2
}
