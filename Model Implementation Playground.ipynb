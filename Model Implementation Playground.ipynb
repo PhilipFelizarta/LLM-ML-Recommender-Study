{
 "cells": [
  {
   "cell_type": "code",
   "execution_count": 1,
   "id": "e07116f7-bb53-4074-836e-929fc39c273d",
   "metadata": {},
   "outputs": [],
   "source": [
    "import model_api as dl\n",
    "import numpy as np\n",
    "import pandas as pd\n",
    "import xgboost as xgb"
   ]
  },
  {
   "cell_type": "code",
   "execution_count": 2,
   "id": "25ba2476-d84a-400a-8ec5-8508e1f2c396",
   "metadata": {},
   "outputs": [
    {
     "name": "stdout",
     "output_type": "stream",
     "text": [
      "Model: \"model\"\n",
      "_________________________________________________________________\n",
      " Layer (type)                Output Shape              Param #   \n",
      "=================================================================\n",
      " input_1 (InputLayer)        [(None, 10, 3)]           0         \n",
      "                                                                 \n",
      " flatten (Flatten)           (None, 30)                0         \n",
      "                                                                 \n",
      " dense (Dense)               (None, 64)                1984      \n",
      "                                                                 \n",
      " dense_1 (Dense)             (None, 10)                650       \n",
      "                                                                 \n",
      "=================================================================\n",
      "Total params: 2,634\n",
      "Trainable params: 2,634\n",
      "Non-trainable params: 0\n",
      "_________________________________________________________________\n",
      "Model: \"model_1\"\n",
      "_________________________________________________________________\n",
      " Layer (type)                Output Shape              Param #   \n",
      "=================================================================\n",
      " input_2 (InputLayer)        [(None, 10, 3)]           0         \n",
      "                                                                 \n",
      " conv1d (Conv1D)             (None, 8, 32)             320       \n",
      "                                                                 \n",
      " max_pooling1d (MaxPooling1D  (None, 4, 32)            0         \n",
      " )                                                               \n",
      "                                                                 \n",
      " flatten_1 (Flatten)         (None, 128)               0         \n",
      "                                                                 \n",
      " dense_2 (Dense)             (None, 64)                8256      \n",
      "                                                                 \n",
      " dense_3 (Dense)             (None, 10)                650       \n",
      "                                                                 \n",
      "=================================================================\n",
      "Total params: 9,226\n",
      "Trainable params: 9,226\n",
      "Non-trainable params: 0\n",
      "_________________________________________________________________\n"
     ]
    }
   ],
   "source": [
    "sample_model = dl.NN_classifier(10, 10, verbose=True)\n",
    "sample_cnn = dl.CNN_classifier(10, 10, verbose=True)\n",
    "sample_xgboost = dl.XGB_classifier(n_estimators=100)"
   ]
  }
 ],
 "metadata": {
  "kernelspec": {
   "display_name": "Python 3 (ipykernel)",
   "language": "python",
   "name": "python3"
  },
  "language_info": {
   "codemirror_mode": {
    "name": "ipython",
    "version": 3
   },
   "file_extension": ".py",
   "mimetype": "text/x-python",
   "name": "python",
   "nbconvert_exporter": "python",
   "pygments_lexer": "ipython3",
   "version": "3.9.19"
  }
 },
 "nbformat": 4,
 "nbformat_minor": 5
}
